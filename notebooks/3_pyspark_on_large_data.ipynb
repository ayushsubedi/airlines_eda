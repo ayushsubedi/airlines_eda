{
 "cells": [
  {
   "cell_type": "code",
   "execution_count": null,
   "id": "c8472e1d-658d-4889-9856-27aa7c731f98",
   "metadata": {},
   "outputs": [],
   "source": [
    "import pandas as pd\n",
    "import numpy as np\n",
    "import os\n",
    "import pyspark\n",
    "from pyspark.sql import SparkSession"
   ]
  },
  {
   "cell_type": "code",
   "execution_count": null,
   "id": "b4e72559-1448-4231-b174-b1f5267945f2",
   "metadata": {},
   "outputs": [],
   "source": [
    "spark = SparkSession.builder \\\n",
    "    .appName('airlines_delay')\\\n",
    "    .config('spark.jars', '../jars/snowflake-jdbc-3.13.6.jar, ../jars/spark-snowflake_2.12-2.9.0-spark_3.1.jar') \\\n",
    "    .getOrCreate()"
   ]
  },
  {
   "cell_type": "code",
   "execution_count": null,
   "id": "739fc67c-1751-4d4c-a4b8-1f4dec1c8c24",
   "metadata": {},
   "outputs": [],
   "source": [
    "file_path = \"/usr/local/share/datasets/airports.csv\"\n",
    "\n",
    "delay = spark.read.csv(file_path, header=True)\n",
    "\n",
    "delay.show()"
   ]
  },
  {
   "cell_type": "code",
   "execution_count": null,
   "id": "b50400a4-ce79-4f21-8743-c4c45d79d07b",
   "metadata": {},
   "outputs": [],
   "source": []
  }
 ],
 "metadata": {
  "kernelspec": {
   "display_name": "Python 3 (ipykernel)",
   "language": "python",
   "name": "python3"
  },
  "language_info": {
   "codemirror_mode": {
    "name": "ipython",
    "version": 3
   },
   "file_extension": ".py",
   "mimetype": "text/x-python",
   "name": "python",
   "nbconvert_exporter": "python",
   "pygments_lexer": "ipython3",
   "version": "3.7.13"
  }
 },
 "nbformat": 4,
 "nbformat_minor": 5
}
